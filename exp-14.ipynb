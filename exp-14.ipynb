{
 "cells": [
  {
   "cell_type": "code",
   "execution_count": 1,
   "id": "a7d979d3",
   "metadata": {},
   "outputs": [
    {
     "name": "stdout",
     "output_type": "stream",
     "text": [
      "  first Name last name                type      department  YoE  salary\n",
      "0      aryan     singh  full-time employee  administration    2   20000\n",
      "1      rohan   agarwal              insane       technical    3    5000\n",
      "2  siddhanth    khanna  full-time employee      management    6   20000\n",
      "3       yash    bhatia  part-time employee       technical    7   10000\n"
     ]
    }
   ],
   "source": [
    "import pandas as pd\n",
    "data = {'first Name': ['aryan', 'rohan', 'siddhanth', 'yash'],\n",
    "        'last name': ['singh','agarwal','khanna','bhatia'],\n",
    "       'type': ['full-time employee','insane','full-time employee','part-time employee'],\n",
    "       'department': ['administration','technical','management','technical'],\n",
    "       'YoE': [2,3,6,7],\n",
    "       'salary':[20000,5000,20000,10000]}\n",
    "df = pd.DataFrame(data)\n",
    "print(df)"
   ]
  },
  {
   "cell_type": "code",
   "execution_count": 6,
   "id": "2145daf2",
   "metadata": {},
   "outputs": [
    {
     "data": {
      "text/html": [
       "<div>\n",
       "<style scoped>\n",
       "    .dataframe tbody tr th:only-of-type {\n",
       "        vertical-align: middle;\n",
       "    }\n",
       "\n",
       "    .dataframe tbody tr th {\n",
       "        vertical-align: top;\n",
       "    }\n",
       "\n",
       "    .dataframe thead th {\n",
       "        text-align: right;\n",
       "    }\n",
       "</style>\n",
       "<table border=\"1\" class=\"dataframe\">\n",
       "  <thead>\n",
       "    <tr style=\"text-align: right;\">\n",
       "      <th></th>\n",
       "      <th></th>\n",
       "      <th>salary</th>\n",
       "    </tr>\n",
       "    <tr>\n",
       "      <th>type</th>\n",
       "      <th>department</th>\n",
       "      <th></th>\n",
       "    </tr>\n",
       "  </thead>\n",
       "  <tbody>\n",
       "    <tr>\n",
       "      <th rowspan=\"2\" valign=\"top\">full-time employee</th>\n",
       "      <th>administration</th>\n",
       "      <td>20000</td>\n",
       "    </tr>\n",
       "    <tr>\n",
       "      <th>management</th>\n",
       "      <td>20000</td>\n",
       "    </tr>\n",
       "    <tr>\n",
       "      <th>insane</th>\n",
       "      <th>technical</th>\n",
       "      <td>5000</td>\n",
       "    </tr>\n",
       "    <tr>\n",
       "      <th>part-time employee</th>\n",
       "      <th>technical</th>\n",
       "      <td>10000</td>\n",
       "    </tr>\n",
       "  </tbody>\n",
       "</table>\n",
       "</div>"
      ],
      "text/plain": [
       "                                   salary\n",
       "type               department            \n",
       "full-time employee administration   20000\n",
       "                   management       20000\n",
       "insane             technical         5000\n",
       "part-time employee technical        10000"
      ]
     },
     "execution_count": 6,
     "metadata": {},
     "output_type": "execute_result"
    }
   ],
   "source": [
    "table=pd.pivot_table(df,index=['type','department'],values='salary',aggfunc='mean')\n",
    "table"
   ]
  },
  {
   "cell_type": "code",
   "execution_count": 7,
   "id": "74976811",
   "metadata": {},
   "outputs": [
    {
     "name": "stdout",
     "output_type": "stream",
     "text": [
      "                     mean    sum\n",
      "                   salary salary\n",
      "type                            \n",
      "full-time employee  20000  40000\n",
      "insane               5000   5000\n",
      "part-time employee  10000  10000\n"
     ]
    }
   ],
   "source": [
    "pivot=pd.pivot_table(\n",
    "    data=df,\n",
    "    index='type',\n",
    "    values='salary',\n",
    "    aggfunc=['mean','sum'])\n",
    "print(pivot)"
   ]
  },
  {
   "cell_type": "code",
   "execution_count": null,
   "id": "faac5f16",
   "metadata": {},
   "outputs": [],
   "source": []
  }
 ],
 "metadata": {
  "kernelspec": {
   "display_name": "Python 3 (ipykernel)",
   "language": "python",
   "name": "python3"
  },
  "language_info": {
   "codemirror_mode": {
    "name": "ipython",
    "version": 3
   },
   "file_extension": ".py",
   "mimetype": "text/x-python",
   "name": "python",
   "nbconvert_exporter": "python",
   "pygments_lexer": "ipython3",
   "version": "3.11.4"
  }
 },
 "nbformat": 4,
 "nbformat_minor": 5
}
