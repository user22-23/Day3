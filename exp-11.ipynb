{
 "cells": [
  {
   "cell_type": "code",
   "execution_count": 7,
   "id": "0a4af7f1",
   "metadata": {},
   "outputs": [
    {
     "name": "stdout",
     "output_type": "stream",
     "text": [
      "a: [1 2 3 4 5]\n",
      "sum: 15\n",
      "product: 120\n",
      "mean: 3.0\n",
      "standard deviation: 1.4142135623730951\n",
      "variance: 2.0\n",
      "minimum: 1\n",
      "maximum: 5\n",
      "minimum index: 0\n",
      "maximum index: 4\n",
      "median: 3.0\n"
     ]
    }
   ],
   "source": [
    "import numpy as np\n",
    "a=np.array([1,2,3,4,5])\n",
    "print(\"a:\",a)\n",
    "sum=np.sum(a)\n",
    "print(\"sum:\",sum)\n",
    "product=np.prod(a)\n",
    "print(\"product:\",product)\n",
    "mean=np.mean(a)\n",
    "print(\"mean:\",mean)\n",
    "standardeviation=np.std(a)\n",
    "print(\"standard deviation:\",standardeviation)\n",
    "variance=np.var(a)\n",
    "print(\"variance:\",variance)\n",
    "minimum=np.min(a)\n",
    "print(\"minimum:\",minimum)\n",
    "maximum=np.max(a)\n",
    "print(\"maximum:\",maximum)\n",
    "minimumindex=np.argmin(a)\n",
    "print(\"minimum index:\",minimumindex)\n",
    "maximumindex=np.argmax(a)\n",
    "print(\"maximum index:\",maximumindex)\n",
    "median=np.median(a)\n",
    "print(\"median:\",median)\n"
   ]
  },
  {
   "cell_type": "code",
   "execution_count": null,
   "id": "fda2f92b",
   "metadata": {},
   "outputs": [],
   "source": []
  }
 ],
 "metadata": {
  "kernelspec": {
   "display_name": "Python 3 (ipykernel)",
   "language": "python",
   "name": "python3"
  },
  "language_info": {
   "codemirror_mode": {
    "name": "ipython",
    "version": 3
   },
   "file_extension": ".py",
   "mimetype": "text/x-python",
   "name": "python",
   "nbconvert_exporter": "python",
   "pygments_lexer": "ipython3",
   "version": "3.11.4"
  }
 },
 "nbformat": 4,
 "nbformat_minor": 5
}
